{
 "cells": [
  {
   "cell_type": "code",
   "execution_count": 9,
   "id": "e026824b-5e82-4461-a480-5b62afa864cb",
   "metadata": {},
   "outputs": [],
   "source": [
    "import pandas as pd\n",
    "import numpy as np\n",
    "from ergo_round__ import choose_prefix, correct_rounds_from_lookup, ColumnConfig, visit_order_lookup\n",
    "\n",
    "pd.set_option('display.max_rows', 500)\n",
    "pd.set_option('display.min_rows', 500)\n",
    "pd.set_option('display.max_columns', 100)\n",
    "pd.set_option('display.width', 2000)\n",
    "pd.set_option('max_colwidth', 400)\n",
    "\n",
    "from IPython.core.interactiveshell import InteractiveShell\n",
    "InteractiveShell.ast_node_interactivity = \"all\""
   ]
  },
  {
   "cell_type": "markdown",
   "id": "8829a641",
   "metadata": {},
   "source": [
    "# Notebook Overview\n",
    "\n",
    "This notebook demonstrates how to assign the correct **Rotterdam Study round (prefix)** to participant visits based on visit_date, study_id (cohort), and visit_nr.\n",
    "\n",
    "\n",
    "The notebook expects a DataFrame with the following columns:\n",
    "\n",
    "- **`ergo_id`** *(int)*: Unique identifier for each participant  \n",
    "- **`visit_date`** *(str in `'YYYY-MM-DD'` format)*: The date the participant attended the visit  \n",
    "- **`study_id`** *(str)*: The Rotterdam Study cohort name (e.g., `'Rotterdam Study 1'`)\n",
    "\n",
    "### Goal\n",
    "\n",
    "Assign the appropriate **visit round prefix** (e.g., `'e1'`, `'e2'`, `'e3'`, etc.) to each participant visit, accounting for:\n",
    "\n",
    "- Participants arriving **late** to one or more visits  \n",
    "- Participants arriving **early**  to one or more visits\n",
    "- Participants who **missed** a visit entirely\n",
    "- Participants who **missed** multiple visits \n",
    "\n",
    "The examples are based on the full RS dataset"
   ]
  },
  {
   "cell_type": "markdown",
   "id": "4e4dca15",
   "metadata": {},
   "source": [
    "### test data"
   ]
  },
  {
   "cell_type": "code",
   "execution_count": 10,
   "id": "5277b0f3",
   "metadata": {},
   "outputs": [],
   "source": [
    "data = {'ergo_id': [1, 1, 1, 1,\n",
    "                    2, 2, 2,\n",
    "                    3, 3,\n",
    "                    4,\n",
    "                    5, 5, 5,\n",
    "                    6, 6, 6, 6,\n",
    "                    7,\n",
    "                    8],\n",
    "                    \n",
    " 'visit_date': ['1993-09-02', '1996-01-01', '2000-01-01', '2002-01-01',  # Late for multiple visits\n",
    "                '1990-01-01', '1994-01-01', '1996-02-01',                # Early for one visit  \n",
    "                '1990-01-01', '1998-01-01',                              # Missing one visit \n",
    "                '1996-01-01',                                            # Missed baseline   \n",
    "                '2002-01-01', '2004-08-01', '2012-08-01',                # A few months late, on time, a few months late\n",
    "                '1993-03-08', '1999-09-08', '2001-06-10', '2004-05-11',  # Multiple edge cases \n",
    "                '2016-03-16',                                            # Baseline at ERGO 6\n",
    "                '2011-11-03'],                                           # Baseline at ERGO 5                                          \n",
    "\n",
    " 'study_id': ['Rotterdam Study 1', 'Rotterdam Study 1', 'Rotterdam Study 1', 'Rotterdam Study 1',\n",
    "              'Rotterdam Study 1', 'Rotterdam Study 1', 'Rotterdam Study 1',\n",
    "              'Rotterdam Study 1', 'Rotterdam Study 1',\n",
    "              'Rotterdam Study 1', \n",
    "              'Rotterdam Study 2', 'Rotterdam Study 2', 'Rotterdam Study 2',\n",
    "              'Rotterdam Study 1', 'Rotterdam Study 1', 'Rotterdam Study 1', 'Rotterdam Study 1',\n",
    "              'Rotterdam Study 2',\n",
    "              'Rotterdam Study 2']\n",
    "}\n",
    "\n",
    "df = pd.DataFrame(data)"
   ]
  },
  {
   "cell_type": "markdown",
   "id": "3f38ea5b",
   "metadata": {},
   "source": [
    "### visit_nr "
   ]
  },
  {
   "cell_type": "code",
   "execution_count": 11,
   "id": "ff1f190a-4b3b-4b05-92ba-c4211c18a5cc",
   "metadata": {},
   "outputs": [
    {
     "data": {
      "text/html": [
       "<div>\n",
       "<style scoped>\n",
       "    .dataframe tbody tr th:only-of-type {\n",
       "        vertical-align: middle;\n",
       "    }\n",
       "\n",
       "    .dataframe tbody tr th {\n",
       "        vertical-align: top;\n",
       "    }\n",
       "\n",
       "    .dataframe thead th {\n",
       "        text-align: right;\n",
       "    }\n",
       "</style>\n",
       "<table border=\"1\" class=\"dataframe\">\n",
       "  <thead>\n",
       "    <tr style=\"text-align: right;\">\n",
       "      <th></th>\n",
       "      <th>ergo_id</th>\n",
       "      <th>visit_date</th>\n",
       "      <th>study_id</th>\n",
       "    </tr>\n",
       "  </thead>\n",
       "  <tbody>\n",
       "    <tr>\n",
       "      <th>0</th>\n",
       "      <td>1</td>\n",
       "      <td>1993-09-02</td>\n",
       "      <td>Rotterdam Study 1</td>\n",
       "    </tr>\n",
       "    <tr>\n",
       "      <th>1</th>\n",
       "      <td>1</td>\n",
       "      <td>1996-01-01</td>\n",
       "      <td>Rotterdam Study 1</td>\n",
       "    </tr>\n",
       "    <tr>\n",
       "      <th>2</th>\n",
       "      <td>1</td>\n",
       "      <td>2000-01-01</td>\n",
       "      <td>Rotterdam Study 1</td>\n",
       "    </tr>\n",
       "    <tr>\n",
       "      <th>3</th>\n",
       "      <td>1</td>\n",
       "      <td>2002-01-01</td>\n",
       "      <td>Rotterdam Study 1</td>\n",
       "    </tr>\n",
       "    <tr>\n",
       "      <th>4</th>\n",
       "      <td>2</td>\n",
       "      <td>1990-01-01</td>\n",
       "      <td>Rotterdam Study 1</td>\n",
       "    </tr>\n",
       "    <tr>\n",
       "      <th>5</th>\n",
       "      <td>2</td>\n",
       "      <td>1994-01-01</td>\n",
       "      <td>Rotterdam Study 1</td>\n",
       "    </tr>\n",
       "    <tr>\n",
       "      <th>6</th>\n",
       "      <td>2</td>\n",
       "      <td>1996-02-01</td>\n",
       "      <td>Rotterdam Study 1</td>\n",
       "    </tr>\n",
       "    <tr>\n",
       "      <th>7</th>\n",
       "      <td>3</td>\n",
       "      <td>1990-01-01</td>\n",
       "      <td>Rotterdam Study 1</td>\n",
       "    </tr>\n",
       "    <tr>\n",
       "      <th>8</th>\n",
       "      <td>3</td>\n",
       "      <td>1998-01-01</td>\n",
       "      <td>Rotterdam Study 1</td>\n",
       "    </tr>\n",
       "    <tr>\n",
       "      <th>9</th>\n",
       "      <td>4</td>\n",
       "      <td>1996-01-01</td>\n",
       "      <td>Rotterdam Study 1</td>\n",
       "    </tr>\n",
       "    <tr>\n",
       "      <th>10</th>\n",
       "      <td>5</td>\n",
       "      <td>2002-01-01</td>\n",
       "      <td>Rotterdam Study 2</td>\n",
       "    </tr>\n",
       "    <tr>\n",
       "      <th>11</th>\n",
       "      <td>5</td>\n",
       "      <td>2004-08-01</td>\n",
       "      <td>Rotterdam Study 2</td>\n",
       "    </tr>\n",
       "    <tr>\n",
       "      <th>12</th>\n",
       "      <td>5</td>\n",
       "      <td>2012-08-01</td>\n",
       "      <td>Rotterdam Study 2</td>\n",
       "    </tr>\n",
       "    <tr>\n",
       "      <th>13</th>\n",
       "      <td>6</td>\n",
       "      <td>1993-03-08</td>\n",
       "      <td>Rotterdam Study 1</td>\n",
       "    </tr>\n",
       "    <tr>\n",
       "      <th>14</th>\n",
       "      <td>6</td>\n",
       "      <td>1999-09-08</td>\n",
       "      <td>Rotterdam Study 1</td>\n",
       "    </tr>\n",
       "    <tr>\n",
       "      <th>15</th>\n",
       "      <td>6</td>\n",
       "      <td>2001-06-10</td>\n",
       "      <td>Rotterdam Study 1</td>\n",
       "    </tr>\n",
       "    <tr>\n",
       "      <th>16</th>\n",
       "      <td>6</td>\n",
       "      <td>2004-05-11</td>\n",
       "      <td>Rotterdam Study 1</td>\n",
       "    </tr>\n",
       "    <tr>\n",
       "      <th>17</th>\n",
       "      <td>7</td>\n",
       "      <td>2016-03-16</td>\n",
       "      <td>Rotterdam Study 2</td>\n",
       "    </tr>\n",
       "    <tr>\n",
       "      <th>18</th>\n",
       "      <td>8</td>\n",
       "      <td>2011-11-03</td>\n",
       "      <td>Rotterdam Study 2</td>\n",
       "    </tr>\n",
       "  </tbody>\n",
       "</table>\n",
       "</div>"
      ],
      "text/plain": [
       "    ergo_id  visit_date           study_id\n",
       "0         1  1993-09-02  Rotterdam Study 1\n",
       "1         1  1996-01-01  Rotterdam Study 1\n",
       "2         1  2000-01-01  Rotterdam Study 1\n",
       "3         1  2002-01-01  Rotterdam Study 1\n",
       "4         2  1990-01-01  Rotterdam Study 1\n",
       "5         2  1994-01-01  Rotterdam Study 1\n",
       "6         2  1996-02-01  Rotterdam Study 1\n",
       "7         3  1990-01-01  Rotterdam Study 1\n",
       "8         3  1998-01-01  Rotterdam Study 1\n",
       "9         4  1996-01-01  Rotterdam Study 1\n",
       "10        5  2002-01-01  Rotterdam Study 2\n",
       "11        5  2004-08-01  Rotterdam Study 2\n",
       "12        5  2012-08-01  Rotterdam Study 2\n",
       "13        6  1993-03-08  Rotterdam Study 1\n",
       "14        6  1999-09-08  Rotterdam Study 1\n",
       "15        6  2001-06-10  Rotterdam Study 1\n",
       "16        6  2004-05-11  Rotterdam Study 1\n",
       "17        7  2016-03-16  Rotterdam Study 2\n",
       "18        8  2011-11-03  Rotterdam Study 2"
      ]
     },
     "execution_count": 11,
     "metadata": {},
     "output_type": "execute_result"
    }
   ],
   "source": [
    "df"
   ]
  },
  {
   "cell_type": "code",
   "execution_count": 12,
   "id": "7f631b05-98b5-4511-a633-80a48be00e71",
   "metadata": {
    "scrolled": true
   },
   "outputs": [],
   "source": [
    "# Assuming df is your DataFrame\n",
    "df['visit_date'] = pd.to_datetime(df['visit_date'], format='%Y-%m-%d', errors='coerce'); \n",
    "df = df.sort_values(by = ['ergo_id', 'visit_date']);\n",
    "\n",
    "# Detemine visit numbers based on the ascending dates \n",
    "df['visit_nr'] = df.groupby(['ergo_id']).cumcount() + 1;\n",
    "df['total_visits'] = df.groupby('ergo_id')['ergo_id'].transform('count')"
   ]
  },
  {
   "cell_type": "markdown",
   "id": "e03c7085",
   "metadata": {},
   "source": [
    "### round"
   ]
  },
  {
   "cell_type": "code",
   "execution_count": 13,
   "id": "9ebbb068-ea21-401d-9fa1-897a44b91d11",
   "metadata": {
    "scrolled": true
   },
   "outputs": [],
   "source": [
    "config = ColumnConfig\n",
    "df['round'] = df.apply(lambda row: choose_prefix(row, config), axis=1)"
   ]
  },
  {
   "cell_type": "code",
   "execution_count": 14,
   "id": "6ef870f2",
   "metadata": {},
   "outputs": [
    {
     "name": "stdout",
     "output_type": "stream",
     "text": [
      "    ergo_id visit_date           study_id  visit_nr  total_visits round\n",
      "0         1 1993-09-02  Rotterdam Study 1         1             4    e2\n",
      "1         1 1996-01-01  Rotterdam Study 1         2             4    e2\n",
      "2         1 2000-01-01  Rotterdam Study 1         3             4    e3\n",
      "3         1 2002-01-01  Rotterdam Study 1         4             4    e4\n",
      "4         2 1990-01-01  Rotterdam Study 1         1             3    e1\n",
      "5         2 1994-01-01  Rotterdam Study 1         2             3    e2\n",
      "6         2 1996-02-01  Rotterdam Study 1         3             3    e3\n",
      "7         3 1990-01-01  Rotterdam Study 1         1             2    e1\n",
      "8         3 1998-01-01  Rotterdam Study 1         2             2    e3\n",
      "9         4 1996-01-01  Rotterdam Study 1         1             1    e2\n",
      "10        5 2002-01-01  Rotterdam Study 2         1             3    ep\n",
      "11        5 2004-08-01  Rotterdam Study 2         2             3    e4\n",
      "12        5 2012-08-01  Rotterdam Study 2         3             3    e5\n",
      "13        6 1993-03-08  Rotterdam Study 1         1             4    e1\n",
      "14        6 1999-09-08  Rotterdam Study 1         2             4    e3\n",
      "15        6 2001-06-10  Rotterdam Study 1         3             4    e4\n",
      "16        6 2004-05-11  Rotterdam Study 1         4             4    e4\n",
      "17        7 2016-03-16  Rotterdam Study 2         1             1    e6\n",
      "18        8 2011-11-03  Rotterdam Study 2         1             1    e5\n"
     ]
    }
   ],
   "source": [
    "print(df)"
   ]
  },
  {
   "cell_type": "markdown",
   "id": "7bdadb13",
   "metadata": {},
   "source": [
    "### correct round for edge cases"
   ]
  },
  {
   "cell_type": "code",
   "execution_count": 7,
   "id": "ef0eeba0",
   "metadata": {},
   "outputs": [],
   "source": [
    "df = correct_rounds_from_lookup(df, config)"
   ]
  },
  {
   "cell_type": "code",
   "execution_count": 8,
   "id": "4b34f762",
   "metadata": {},
   "outputs": [
    {
     "name": "stdout",
     "output_type": "stream",
     "text": [
      "    ergo_id visit_date           study_id  visit_nr  total_visits round\n",
      "0         1 1993-09-02  Rotterdam Study 1         1             4    e1\n",
      "1         1 1996-01-01  Rotterdam Study 1         2             4    e2\n",
      "2         1 2000-01-01  Rotterdam Study 1         3             4    e3\n",
      "3         1 2002-01-01  Rotterdam Study 1         4             4    e4\n",
      "4         2 1990-01-01  Rotterdam Study 1         1             3    e1\n",
      "5         2 1994-01-01  Rotterdam Study 1         2             3    e2\n",
      "6         2 1996-02-01  Rotterdam Study 1         3             3    e3\n",
      "7         3 1990-01-01  Rotterdam Study 1         1             2    e1\n",
      "8         3 1998-01-01  Rotterdam Study 1         2             2    e3\n",
      "9         4 1996-01-01  Rotterdam Study 1         1             1    e2\n",
      "10        5 2002-01-01  Rotterdam Study 2         1             3    ep\n",
      "11        5 2004-08-01  Rotterdam Study 2         2             3    e4\n",
      "12        5 2012-08-01  Rotterdam Study 2         3             3    e5\n",
      "13        6 1993-03-08  Rotterdam Study 1         1             4    e1\n",
      "14        6 1999-09-08  Rotterdam Study 1         2             4    e3\n",
      "15        6 2001-06-10  Rotterdam Study 1         3             4    e3\n",
      "16        6 2004-05-11  Rotterdam Study 1         4             4    e4\n",
      "17        7 2016-03-16  Rotterdam Study 2         1             1    e6\n",
      "18        8 2011-11-03  Rotterdam Study 2         1             1    e5\n"
     ]
    }
   ],
   "source": [
    "print(df)"
   ]
  },
  {
   "cell_type": "markdown",
   "id": "83fb0082-b34d-4cc3-8b4c-75300a3f2908",
   "metadata": {},
   "source": [
    "## check result"
   ]
  },
  {
   "cell_type": "code",
   "execution_count": null,
   "id": "f97437d8-29a3-4eb9-b679-9511904bf9be",
   "metadata": {},
   "outputs": [],
   "source": []
  }
 ],
 "metadata": {
  "kernelspec": {
   "display_name": "Python 3 (ipykernel)",
   "language": "python",
   "name": "python3"
  },
  "language_info": {
   "codemirror_mode": {
    "name": "ipython",
    "version": 3
   },
   "file_extension": ".py",
   "mimetype": "text/x-python",
   "name": "python",
   "nbconvert_exporter": "python",
   "pygments_lexer": "ipython3",
   "version": "3.10.5"
  },
  "widgets": {
   "application/vnd.jupyter.widget-state+json": {
    "state": {},
    "version_major": 2,
    "version_minor": 0
   }
  }
 },
 "nbformat": 4,
 "nbformat_minor": 5
}
