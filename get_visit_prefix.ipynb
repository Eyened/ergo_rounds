{
 "cells": [
  {
   "cell_type": "code",
   "execution_count": 1,
   "id": "e026824b-5e82-4461-a480-5b62afa864cb",
   "metadata": {},
   "outputs": [],
   "source": [
    "import pandas as pd\n",
    "import numpy as np\n",
    "from utils_ergo import choose_prefix, correct_rounds_from_lookup\n",
    "\n",
    "pd.set_option('display.max_rows', 500)\n",
    "pd.set_option('display.min_rows', 500)\n",
    "pd.set_option('display.max_columns', 100)\n",
    "pd.set_option('display.width', 2000)\n",
    "pd.set_option('max_colwidth', 400)\n",
    "\n",
    "from IPython.core.interactiveshell import InteractiveShell\n",
    "InteractiveShell.ast_node_interactivity = \"all\""
   ]
  },
  {
   "cell_type": "markdown",
   "id": "8829a641",
   "metadata": {},
   "source": [
    "# Notebook Overview\n",
    "\n",
    "This notebook demonstrates how to assign the correct **Rotterdam Study round (prefix)** to participant visits based on visit_date, study_id (cohort), and visit_nr.\n",
    "\n",
    "\n",
    "The notebook expects a DataFrame with the following columns:\n",
    "\n",
    "- **`ergo_id`** *(int)*: Unique identifier for each participant  \n",
    "- **`visit_date`** *(str in `'YYYY-MM-DD'` format)*: The date the participant attended the visit  \n",
    "- **`study_id`** *(str)*: The Rotterdam Study cohort name (e.g., `'Rotterdam Study 1'`)\n",
    "\n",
    "### Goal\n",
    "\n",
    "Assign the appropriate **visit round prefix** (e.g., `'e1'`, `'e2'`, `'e3'`, etc.) to each participant visit, accounting for:\n",
    "\n",
    "- Participants arriving **late** to one or more visits  \n",
    "- Participants arriving **early**  \n",
    "- Participants who **missed** a visit entirely"
   ]
  },
  {
   "cell_type": "markdown",
   "id": "4e4dca15",
   "metadata": {},
   "source": [
    "### Test data"
   ]
  },
  {
   "cell_type": "code",
   "execution_count": 2,
   "id": "2ed983c3",
   "metadata": {},
   "outputs": [],
   "source": [
    "data = {'ergo_id': [1, 1, 1, 1,\n",
    "                    2, 2, 2,\n",
    "                    3, 3,\n",
    "                    4],\n",
    "                    \n",
    " 'visit_date': ['1993-09-02', '1996-01-01', '2000-01-01', '2002-01-01',  # Late for multiple visits\n",
    "                '1990-01-01', '1994-01-01', '1995-02-01',                # Early for one visit  \n",
    "                '1990-01-01', '1998-01-01',                              # Missing one visit \n",
    "                '1996-01-01'],                                           # Missed baseline      \n",
    "\n",
    " 'study_id': ['Rotterdam Study 1', 'Rotterdam Study 1', 'Rotterdam Study 1', 'Rotterdam Study 1',\n",
    "              'Rotterdam Study 1', 'Rotterdam Study 1', 'Rotterdam Study 1',\n",
    "              'Rotterdam Study 1', 'Rotterdam Study 1',\n",
    "              'Rotterdam Study 1']\n",
    "}\n",
    "\n",
    "df = pd.DataFrame(data)"
   ]
  },
  {
   "cell_type": "markdown",
   "id": "3f38ea5b",
   "metadata": {},
   "source": [
    "### visit_nr "
   ]
  },
  {
   "cell_type": "code",
   "execution_count": 3,
   "id": "7f631b05-98b5-4511-a633-80a48be00e71",
   "metadata": {
    "scrolled": true
   },
   "outputs": [],
   "source": [
    "# Assuming df is your DataFrame\n",
    "df['visit_date'] = pd.to_datetime(df['visit_date'], format='%Y-%m-%d', errors='coerce'); \n",
    "df = df.sort_values(by = ['ergo_id', 'visit_date']);\n",
    "\n",
    "# Detemine visit numbers based on the ascending dates \n",
    "df['visit_nr'] = df.groupby(['ergo_id']).cumcount() + 1;"
   ]
  },
  {
   "cell_type": "markdown",
   "id": "e03c7085",
   "metadata": {},
   "source": [
    "### round"
   ]
  },
  {
   "cell_type": "code",
   "execution_count": 4,
   "id": "9ebbb068-ea21-401d-9fa1-897a44b91d11",
   "metadata": {
    "scrolled": true
   },
   "outputs": [],
   "source": [
    "df['round'] = df.apply(choose_prefix, axis=1)"
   ]
  },
  {
   "cell_type": "code",
   "execution_count": 5,
   "id": "6ef870f2",
   "metadata": {},
   "outputs": [
    {
     "name": "stdout",
     "output_type": "stream",
     "text": [
      "   ergo_id visit_date           study_id  visit_nr round\n",
      "0        1 1993-09-02  Rotterdam Study 1         1    e2\n",
      "1        1 1996-01-01  Rotterdam Study 1         2    e2\n",
      "2        1 2000-01-01  Rotterdam Study 1         3    e3\n",
      "3        1 2002-01-01  Rotterdam Study 1         4    e4\n",
      "4        2 1990-01-01  Rotterdam Study 1         1    e1\n",
      "5        2 1994-01-01  Rotterdam Study 1         2    e2\n",
      "6        2 1995-02-01  Rotterdam Study 1         3    e3\n",
      "7        3 1990-01-01  Rotterdam Study 1         1    e1\n",
      "8        3 1998-01-01  Rotterdam Study 1         2    e3\n",
      "9        4 1996-01-01  Rotterdam Study 1         1    e2\n"
     ]
    }
   ],
   "source": [
    "print(df)"
   ]
  },
  {
   "cell_type": "markdown",
   "id": "7bdadb13",
   "metadata": {},
   "source": [
    "### Correct round for edge cases"
   ]
  },
  {
   "cell_type": "code",
   "execution_count": 6,
   "id": "ef0eeba0",
   "metadata": {},
   "outputs": [],
   "source": [
    "df = correct_rounds_from_lookup(df, round_column='round')"
   ]
  },
  {
   "cell_type": "code",
   "execution_count": 7,
   "id": "4b34f762",
   "metadata": {},
   "outputs": [
    {
     "name": "stdout",
     "output_type": "stream",
     "text": [
      "   ergo_id visit_date           study_id  visit_nr round\n",
      "0        1 1993-09-02  Rotterdam Study 1         1    e1\n",
      "1        1 1996-01-01  Rotterdam Study 1         2    e2\n",
      "2        1 2000-01-01  Rotterdam Study 1         3    e3\n",
      "3        1 2002-01-01  Rotterdam Study 1         4    e4\n",
      "4        2 1990-01-01  Rotterdam Study 1         1    e1\n",
      "5        2 1994-01-01  Rotterdam Study 1         2    e2\n",
      "6        2 1995-02-01  Rotterdam Study 1         3    e3\n",
      "7        3 1990-01-01  Rotterdam Study 1         1    e1\n",
      "8        3 1998-01-01  Rotterdam Study 1         2    e3\n",
      "9        4 1996-01-01  Rotterdam Study 1         1    e2\n"
     ]
    }
   ],
   "source": [
    "print(df)"
   ]
  },
  {
   "cell_type": "code",
   "execution_count": null,
   "id": "931757e3",
   "metadata": {},
   "outputs": [],
   "source": []
  }
 ],
 "metadata": {
  "kernelspec": {
   "display_name": "Python 3",
   "language": "python",
   "name": "python3"
  },
  "language_info": {
   "codemirror_mode": {
    "name": "ipython",
    "version": 3
   },
   "file_extension": ".py",
   "mimetype": "text/x-python",
   "name": "python",
   "nbconvert_exporter": "python",
   "pygments_lexer": "ipython3",
   "version": "3.10.5"
  },
  "widgets": {
   "application/vnd.jupyter.widget-state+json": {
    "state": {},
    "version_major": 2,
    "version_minor": 0
   }
  }
 },
 "nbformat": 4,
 "nbformat_minor": 5
}
